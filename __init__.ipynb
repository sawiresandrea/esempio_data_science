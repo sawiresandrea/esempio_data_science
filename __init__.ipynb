{
 "cells": [
  {
   "cell_type": "code",
   "execution_count": 48,
   "metadata": {},
   "outputs": [],
   "source": [
    "import pandas as pd\n",
    "import numpy as np\n",
    "import matplotlib.pyplot as plt\n",
    "import plotly.graph_objects as go"
   ]
  },
  {
   "cell_type": "code",
   "execution_count": 36,
   "metadata": {},
   "outputs": [
    {
     "data": {
      "text/html": [
       "<div>\n",
       "<style scoped>\n",
       "    .dataframe tbody tr th:only-of-type {\n",
       "        vertical-align: middle;\n",
       "    }\n",
       "\n",
       "    .dataframe tbody tr th {\n",
       "        vertical-align: top;\n",
       "    }\n",
       "\n",
       "    .dataframe thead th {\n",
       "        text-align: right;\n",
       "    }\n",
       "</style>\n",
       "<table border=\"1\" class=\"dataframe\">\n",
       "  <thead>\n",
       "    <tr style=\"text-align: right;\">\n",
       "      <th></th>\n",
       "      <th>ObservationDate</th>\n",
       "      <th>Province/State</th>\n",
       "      <th>Country/Region</th>\n",
       "      <th>Last Update</th>\n",
       "      <th>Confirmed</th>\n",
       "      <th>Deaths</th>\n",
       "      <th>Recovered</th>\n",
       "    </tr>\n",
       "    <tr>\n",
       "      <th>SNo</th>\n",
       "      <th></th>\n",
       "      <th></th>\n",
       "      <th></th>\n",
       "      <th></th>\n",
       "      <th></th>\n",
       "      <th></th>\n",
       "      <th></th>\n",
       "    </tr>\n",
       "  </thead>\n",
       "  <tbody>\n",
       "    <tr>\n",
       "      <th>1</th>\n",
       "      <td>01/22/2020</td>\n",
       "      <td>Anhui</td>\n",
       "      <td>Mainland China</td>\n",
       "      <td>1/22/2020 17:00</td>\n",
       "      <td>1.0</td>\n",
       "      <td>0.0</td>\n",
       "      <td>0.0</td>\n",
       "    </tr>\n",
       "    <tr>\n",
       "      <th>2</th>\n",
       "      <td>01/22/2020</td>\n",
       "      <td>Beijing</td>\n",
       "      <td>Mainland China</td>\n",
       "      <td>1/22/2020 17:00</td>\n",
       "      <td>14.0</td>\n",
       "      <td>0.0</td>\n",
       "      <td>0.0</td>\n",
       "    </tr>\n",
       "    <tr>\n",
       "      <th>3</th>\n",
       "      <td>01/22/2020</td>\n",
       "      <td>Chongqing</td>\n",
       "      <td>Mainland China</td>\n",
       "      <td>1/22/2020 17:00</td>\n",
       "      <td>6.0</td>\n",
       "      <td>0.0</td>\n",
       "      <td>0.0</td>\n",
       "    </tr>\n",
       "    <tr>\n",
       "      <th>4</th>\n",
       "      <td>01/22/2020</td>\n",
       "      <td>Fujian</td>\n",
       "      <td>Mainland China</td>\n",
       "      <td>1/22/2020 17:00</td>\n",
       "      <td>1.0</td>\n",
       "      <td>0.0</td>\n",
       "      <td>0.0</td>\n",
       "    </tr>\n",
       "    <tr>\n",
       "      <th>5</th>\n",
       "      <td>01/22/2020</td>\n",
       "      <td>Gansu</td>\n",
       "      <td>Mainland China</td>\n",
       "      <td>1/22/2020 17:00</td>\n",
       "      <td>0.0</td>\n",
       "      <td>0.0</td>\n",
       "      <td>0.0</td>\n",
       "    </tr>\n",
       "  </tbody>\n",
       "</table>\n",
       "</div>"
      ],
      "text/plain": [
       "    ObservationDate Province/State  Country/Region      Last Update  \\\n",
       "SNo                                                                   \n",
       "1        01/22/2020          Anhui  Mainland China  1/22/2020 17:00   \n",
       "2        01/22/2020        Beijing  Mainland China  1/22/2020 17:00   \n",
       "3        01/22/2020      Chongqing  Mainland China  1/22/2020 17:00   \n",
       "4        01/22/2020         Fujian  Mainland China  1/22/2020 17:00   \n",
       "5        01/22/2020          Gansu  Mainland China  1/22/2020 17:00   \n",
       "\n",
       "     Confirmed  Deaths  Recovered  \n",
       "SNo                                \n",
       "1          1.0     0.0        0.0  \n",
       "2         14.0     0.0        0.0  \n",
       "3          6.0     0.0        0.0  \n",
       "4          1.0     0.0        0.0  \n",
       "5          0.0     0.0        0.0  "
      ]
     },
     "execution_count": 36,
     "metadata": {},
     "output_type": "execute_result"
    }
   ],
   "source": [
    "dataset = pd.read_csv(\"covid/covid_19_data.csv\", index_col=0)\n",
    "dataset.head()"
   ]
  },
  {
   "cell_type": "code",
   "execution_count": 32,
   "metadata": {},
   "outputs": [],
   "source": [
    "def date_format(date):\n",
    "    month = ''\n",
    "    for i in date:\n",
    "        if i == \"/\" :\n",
    "            break\n",
    "        else:\n",
    "            month += i\n",
    "    return month"
   ]
  },
  {
   "cell_type": "code",
   "execution_count": 74,
   "metadata": {
    "scrolled": true
   },
   "outputs": [
    {
     "data": {
      "image/png": "[encoded data removed]",
      "text/plain": [
       "<Figure size 432x288 with 1 Axes>"
      ]
     },
     "metadata": {
      "needs_background": "light"
     },
     "output_type": "display_data"
    }
   ],
   "source": [
    "x, y = [], [] # sulla x ci saranno le date e sulla y il numero di morti\n",
    "data_precedente = ''\n",
    "count = []\n",
    "\n",
    "# iterazione per tutte le righe del database\n",
    "for index, row in dataset.iterrows():\n",
    "    # solo se il paese è la cina, in modo da analizzare solo quel paese.\n",
    "    if row[\"Country/Region\"] == \"Mainland China\":\n",
    "        data_interessata = date_format(row[\"ObservationDate\"]) # formattare la data come serve a noi\n",
    "        if data_precedente == '':\n",
    "            data_precedente = data_interessata\n",
    "        elif data_interessata == data_precedente:\n",
    "            count.append(row[\"Deaths\"])\n",
    "        else:\n",
    "            data_precedente = data_interessata\n",
    "            x.append(data_interessata)\n",
    "            y.append(np.max(count))\n",
    "            count = []\n",
    "            \n",
    "plt.plot(x, y, label=\"Morti in Cina\")\n",
    "plt.legend(loc=\"best\")\n",
    "plt.grid()\n",
    "plt.show()"
   ]
  },
  {
   "cell_type": "code",
   "execution_count": 76,
   "metadata": {},
   "outputs": [
    {
     "name": "stdout",
     "output_type": "stream",
     "text": [
      "Il numero dei casi confermati è 68135.0\n"
     ]
    }
   ],
   "source": [
    "lista_confermati = []\n",
    "for index, row in dataset.iterrows():\n",
    "    if row[\"Country/Region\"] == \"Mainland China\":\n",
    "        lista_confermati.append(row[\"Confirmed\"])\n",
    "confermati = np.max(lista_confermati)\n",
    "print(f\"Il numero dei casi confermati è {confermati}\")"
   ]
  },
  {
   "cell_type": "code",
   "execution_count": null,
   "metadata": {},
   "outputs": [],
   "source": []
  }
 ],
 "metadata": {
  "kernelspec": {
   "display_name": "Python 3",
   "language": "python",
   "name": "python3"
  },
  "language_info": {
   "codemirror_mode": {
    "name": "ipython",
    "version": 3
   },
   "file_extension": ".py",
   "mimetype": "text/x-python",
   "name": "python",
   "nbconvert_exporter": "python",
   "pygments_lexer": "ipython3",
   "version": "3.6.8"
  }
 },
 "nbformat": 4,
 "nbformat_minor": 4
}
